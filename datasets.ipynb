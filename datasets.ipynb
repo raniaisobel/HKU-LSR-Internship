{
 "cells": [
  {
   "cell_type": "markdown",
   "metadata": {},
   "source": [
    "Dataset Computations"
   ]
  },
  {
   "cell_type": "code",
   "execution_count": 3,
   "metadata": {},
   "outputs": [],
   "source": [
    "import numpy as np\n",
    "import matplotlib.pyplot as plt\n",
    "from scipy import optimize\n",
    "from scipy.fft import fft, fftfreq\n",
    "import matplotlib.patches as mpatches\n",
    "from astropy.io import fits\n",
    "import astropy.units as u\n",
    "from astropy.coordinates import SkyCoord\n",
    "import io"
   ]
  },
  {
   "cell_type": "code",
   "execution_count": 5,
   "metadata": {},
   "outputs": [],
   "source": [
    "\n",
    "# PNe Hash Database ------------------------------------------------------------\n",
    "dtype = [('idPNMain', 'i4'),('PNG', 'U10'),('Name', 'U10'),('PNstat', 'U1'),('RAJ2000', 'U12'),('DECJ2000', 'U12'),('DRAJ2000', 'f8'),('DDECJ2000', 'f8'),('Glon', 'f8'),('Glat', 'f8'),('MajDiam', 'f8'),('mainClass', 'U1'),('subClass', 'U1')]\n",
    "data2 = np.genfromtxt('Resources/all_true_all_PNe.csv', delimiter=',',dtype=dtype,names=True)\n",
    "\n",
    "go2 = data2['Glon']\n",
    "ga2 = data2['Glat']\n",
    "glon2 = go2 * u.deg\n",
    "glat2 = ga2 * u.deg\n",
    "\n",
    "g_coords2 = SkyCoord(l=glon2,b=glat2, frame='galactic')"
   ]
  },
  {
   "cell_type": "code",
   "execution_count": null,
   "metadata": {},
   "outputs": [],
   "source": [
    "# Swift Database (Ultraviolet & Optical) ---------------------------------------\n",
    "dtypeee = [('blank', 'f8'),('source_number', 'i8'), ('name', 'U25'), ('ra', 'U15'), ('dec', 'U15'), ('lii', 'f8'), ('bii', 'f8'), ('error_radius', 'f8'), ('count_rate_fb', 'f8'), ('count_rate_fb_pos_err', 'f8'), ('count_rate_fb_neg_err', 'f8'), ('pow_flux_a', 'f8'), ('pow_flux_a_pos_err', 'f8'), ('pow_flux_a_neg_err', 'f8'), ('apec_flux_a', 'f8'), ('apec_flux_a_pos_err', 'f8'), ('apec_flux_a_neg_err', 'f8')]\n",
    "data5 = np.genfromtxt('Resources/swift.txt', delimiter='|', skip_header=3, dtype=dtypeee, invalid_raise=False)\n",
    "\n",
    "go5 = data5['lii']\n",
    "ga5 = data5['bii']\n",
    "\n",
    "glon5 = go5 * u.deg\n",
    "glat5 = ga5 * u.deg\n",
    "\n",
    "g_coords5 = SkyCoord(l=glon5,b=glat5, frame='galactic')"
   ]
  },
  {
   "cell_type": "code",
   "execution_count": 15,
   "metadata": {},
   "outputs": [],
   "source": [
    "# Chandra Database (X-Ray) -----------------------------------------------------\n",
    "\n",
    "dtypee = [('blank', 'f8'),('name', 'U20'), ('ra', 'U15'), ('dec', 'U15'), ('lii', 'f8'), ('bii', 'f8'), ('error_ellipse_r0', 'f8'), ('error_ellipse_r1', 'f8'), ('error_ellipse_angle', 'f8')]\n",
    "data4 = np.genfromtxt('Resources/chandra.txt', delimiter='|', skip_header=3, dtype=dtypee, invalid_raise=False)\n",
    "go4 = data4['lii']\n",
    "ga4 = data4['bii']\n",
    "glon4 = go4 * u.deg\n",
    "glat4 = ga4 * u.deg\n",
    "\n",
    "g_coords4 = SkyCoord(l=glon4,b=glat4, frame='galactic')"
   ]
  },
  {
   "cell_type": "code",
   "execution_count": null,
   "metadata": {},
   "outputs": [
    {
     "name": "stdout",
     "output_type": "stream",
     "text": [
      "Processed chunk 1\n",
      "Processed chunk 2\n",
      "Processed chunk 3\n",
      "Processed chunk 4\n",
      "Processed chunk 5\n",
      "[[ 62.29354523  62.31612425  61.96766198 ... 116.91150051 116.83989116\n",
      "  118.62294634]\n",
      " [ 60.29211719  60.29707953  59.92729367 ... 118.97959611 118.90228642\n",
      "  120.69351062]\n",
      " [ 57.33536747  57.31177496  56.91111161 ... 122.05129608 121.96550525\n",
      "  123.75251559]\n",
      " ...\n",
      " [100.59567393 100.52314799 100.07986555 ...  79.01747185  78.91843195\n",
      "   80.64033612]\n",
      " [ 15.55353669  15.4950676   15.80255593 ... 165.34881687 165.41234498\n",
      "  163.64995272]\n",
      " [ 36.79060671  37.01956942  37.45261516 ... 142.61398237 142.72099261\n",
      "  141.89309661]]\n"
     ]
    }
   ],
   "source": [
    "################################################################################\n",
    "#                              Swift Matrix                                    #\n",
    "################################################################################\n",
    "\n",
    "chunksize5 = 50000\n",
    "ds = []\n",
    "\n",
    "for i in range(0, len(g_coords5), chunksize5):\n",
    "    gc5_chunk = g_coords5[i:i + chunksize5]\n",
    "    ds_chunk = g_coords2[:, None].separation(gc5_chunk[None, :]).deg\n",
    "    ds.append(ds_chunk)\n",
    "    print(f\"Processed chunk {i // chunksize5 + 1}\")\n",
    "\n",
    "ds = np.concatenate(ds, axis=1)\n",
    "print(ds)"
   ]
  },
  {
   "cell_type": "code",
   "execution_count": 16,
   "metadata": {},
   "outputs": [
    {
     "name": "stdout",
     "output_type": "stream",
     "text": [
      "Processed chunk 1\n",
      "Processed chunk 2\n",
      "Processed chunk 3\n",
      "Processed chunk 4\n",
      "Processed chunk 5\n",
      "Processed chunk 6\n",
      "Processed chunk 7\n",
      "Processed chunk 8\n",
      "Processed chunk 9\n",
      "[[100.762255   118.57157739 101.30784766 ...  96.18421075 101.29446506\n",
      "   82.92977954]\n",
      " [ 97.56371316 119.3268041   98.15495494 ...  92.66131918  98.14053912\n",
      "   78.95706189]\n",
      " [ 92.62779695 120.29884082  93.28806882 ...  87.22833574  93.27209718\n",
      "   72.7889711 ]\n",
      " ...\n",
      " [ 74.40327088  75.88284789  74.23353573 ...  76.04778165  74.23623211\n",
      "   82.64596172]\n",
      " [ 95.38487255 154.22468105  96.5593788  ...  85.79319904  96.53289205\n",
      "   59.00690911]\n",
      " [130.51580983 156.43952513 131.63319948 ... 121.28424733 131.60820417\n",
      "   94.85574215]]\n"
     ]
    }
   ],
   "source": [
    "################################################################################\n",
    "#                                Chandra Matrix                                #\n",
    "################################################################################\n",
    "\n",
    "chunksize4 = 50000\n",
    "dc = []\n",
    "\n",
    "for i in range(0, len(g_coords4), chunksize4):\n",
    "    gc4_chunk = g_coords4[i:i + chunksize4]\n",
    "    dc_chunk = g_coords2[:, None].separation(gc4_chunk[None, :]).deg\n",
    "    dc.append(dc_chunk)\n",
    "    print(f\"Processed chunk {i // chunksize4 + 1}\")\n",
    "\n",
    "dc = np.concatenate(dc, axis=1)\n",
    "print(dc)"
   ]
  }
 ],
 "metadata": {
  "kernelspec": {
   "display_name": "Python 3",
   "language": "python",
   "name": "python3"
  },
  "language_info": {
   "codemirror_mode": {
    "name": "ipython",
    "version": 3
   },
   "file_extension": ".py",
   "mimetype": "text/x-python",
   "name": "python",
   "nbconvert_exporter": "python",
   "pygments_lexer": "ipython3",
   "version": "3.12.5"
  }
 },
 "nbformat": 4,
 "nbformat_minor": 2
}
