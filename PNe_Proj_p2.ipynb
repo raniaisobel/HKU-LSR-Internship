{
 "cells": [
  {
   "cell_type": "markdown",
   "metadata": {},
   "source": [
    "Planetary Nebulae Project (Part 2)"
   ]
  },
  {
   "cell_type": "code",
   "execution_count": 1,
   "metadata": {},
   "outputs": [],
   "source": [
    "import numpy as np\n",
    "import matplotlib.pyplot as plt\n",
    "from scipy import optimize\n",
    "from scipy.fft import fft, fftfreq\n",
    "import matplotlib.patches as mpatches\n",
    "from astropy.io import fits\n",
    "import astropy.units as u\n",
    "from astropy.coordinates import SkyCoord\n",
    "import io"
   ]
  },
  {
   "cell_type": "code",
   "execution_count": 25,
   "metadata": {},
   "outputs": [],
   "source": [
    "# Fermi Database (Gamma-Ray) ---------------------------------------------------\n",
    "hdul = fits.open('Resources/gll_psc_v35.fit')\n",
    "data = hdul[1].data\n",
    "\n",
    "o3 = [row[4] for row in data]\n",
    "a3 = [row[5] for row in data]\n",
    "\n",
    "go3 = [float(value) for value in o3]\n",
    "ga3 = [float(value) for value in a3]\n",
    "\n",
    "glon3 = go3 * u.deg\n",
    "glat3 = ga3 * u.deg\n",
    "\n",
    "g_coords3 = SkyCoord(l=glon3,b=glat3, frame='galactic')"
   ]
  },
  {
   "cell_type": "code",
   "execution_count": 26,
   "metadata": {},
   "outputs": [],
   "source": [
    "# Chandra Database (X-Ray) -----------------------------------------------------\n",
    "dtypee = [('blank', 'f8'),('name', 'U20'), ('ra', 'U15'), ('dec', 'U15'), ('lii', 'f8'), ('bii', 'f8'), ('error_ellipse_r0', 'f8'), ('error_ellipse_r1', 'f8'), ('error_ellipse_angle', 'f8')]\n",
    "data4 = np.genfromtxt('Resources/chandra.txt', delimiter='|', skip_header=3, dtype=dtypee, invalid_raise=False)\n",
    "\n",
    "go4 = data4['lii']\n",
    "ga4 = data4['bii']\n",
    "glon4 = go4 * u.deg\n",
    "glat4 = ga4 * u.deg\n",
    "\n",
    "g_coords4 = SkyCoord(l=glon4,b=glat4, frame='galactic')"
   ]
  },
  {
   "cell_type": "code",
   "execution_count": 27,
   "metadata": {},
   "outputs": [],
   "source": [
    "# Swift Database (Ultraviolet & Optical) ---------------------------------------\n",
    "dtypeee = [('blank', 'f8'),('source_number', 'i8'), ('name', 'U25'), ('ra', 'U15'), ('dec', 'U15'), ('lii', 'f8'), ('bii', 'f8'), ('error_radius', 'f8'), ('count_rate_fb', 'f8'), ('count_rate_fb_pos_err', 'f8'), ('count_rate_fb_neg_err', 'f8'), ('pow_flux_a', 'f8'), ('pow_flux_a_pos_err', 'f8'), ('pow_flux_a_neg_err', 'f8'), ('apec_flux_a', 'f8'), ('apec_flux_a_pos_err', 'f8'), ('apec_flux_a_neg_err', 'f8')]\n",
    "data5 = np.genfromtxt('Resources/swift.txt', delimiter='|', skip_header=3, dtype=dtypeee, invalid_raise=False)\n",
    "\n",
    "go5 = data5['lii']\n",
    "ga5 = data5['bii']\n",
    "\n",
    "glon5 = go5 * u.deg\n",
    "glat5 = ga5 * u.deg\n",
    "\n",
    "g_coords5 = SkyCoord(l=glon5,b=glat5, frame='galactic')"
   ]
  },
  {
   "cell_type": "code",
   "execution_count": 29,
   "metadata": {},
   "outputs": [],
   "source": [
    "dtype6 = [('Name', 'U50'),('RA (J2000)', 'U12'),('Dec (J2000)', 'U12')]\n",
    "data6 = np.genfromtxt('Resources/notable_data.csv', delimiter=',',dtype=dtype6,names=True,encoding='utf-8')\n",
    "\n",
    "ra6 = data6['RA_J2000']\n",
    "dec6 = data6['Dec_J2000']\n",
    "\n",
    "coords = SkyCoord(ra=ra6, dec=dec6, unit=(u.hourangle, u.deg), frame='icrs')\n",
    "galactic_coords = coords.galactic"
   ]
  },
  {
   "cell_type": "code",
   "execution_count": 38,
   "metadata": {},
   "outputs": [
    {
     "name": "stdout",
     "output_type": "stream",
     "text": [
      "PNe 0: Closest Fermi signal is '4FGL J2003.6+2333' with distance 1.2478 degrees\n",
      "PNe 1: Closest Fermi signal is '4FGL J1848.5+3243' with distance 1.0917 degrees\n",
      "PNe 2: Closest Fermi signal is '4FGL J0140.4+5114' with distance 0.4405 degrees\n",
      "PNe 3: Closest Fermi signal is '4FGL J1758.2+6532' with distance 1.4693 degrees\n",
      "PNe 4: Closest Fermi signal is '4FGL J1537.3-6110' with distance 0.4028 degrees\n",
      "PNe 5: Closest Fermi signal is '4FGL J1822.8-1118' with distance 0.4148 degrees\n",
      "PNe 6: Closest Fermi signal is '4FGL J1818.5-2036' with distance 1.3032 degrees\n",
      "PNe 7: Closest Fermi signal is '4FGL J0537.5+0959' with distance 1.4468 degrees\n",
      "PNe 8: Closest Fermi signal is '4FGL J1717.0-3218' with distance 0.2910 degrees\n",
      "PNe 9: Closest Fermi signal is '4FGL J1746.0-2349' with distance 0.4867 degrees\n",
      "PNe 10: Closest Fermi signal is '4FGL J1701.9-4625' with distance 0.5663 degrees\n",
      "PNe 11: Closest Fermi signal is '4FGL J1726.7-3930' with distance 0.4476 degrees\n",
      "PNe 12: Closest Fermi signal is '4FGL J2106.7+3549' with distance 1.1153 degrees\n",
      "PNe 13: Closest Fermi signal is '4FGL J1754.6-2933' with distance 0.1829 degrees\n",
      "PNe 14: Closest Fermi signal is '4FGL J2232.6-2023' with distance 0.8227 degrees\n",
      "PNe 15: Closest Fermi signal is '4FGL J2111.4+4606' with distance 1.0937 degrees\n",
      "PNe 16: Closest Fermi signal is '4FGL J1718.0-3726' with distance 0.9193 degrees\n",
      "PNe 17: Closest Fermi signal is '4FGL J0705.8-0004' with distance 0.8876 degrees\n",
      "PNe 18: Closest Fermi signal is '4FGL J1718.0-3726' with distance 0.8509 degrees\n",
      "PNe 19: Closest Fermi signal is '4FGL J1710.3-3039' with distance 0.7364 degrees\n",
      "PNe 20: Closest Fermi signal is '4FGL J1813.2-1128' with distance 0.1230 degrees\n",
      "PNe 21: Closest Fermi signal is '4FGL J1937.0+3003' with distance 0.5363 degrees\n",
      "PNe 22: Closest Fermi signal is '4FGL J0442.8+3609' with distance 0.6449 degrees\n",
      "PNe 23: Closest Fermi signal is '4FGL J1729.9-2403' with distance 0.3308 degrees\n",
      "PNe 24: Closest Fermi signal is '4FGL J2059.1+4403' with distance 2.1187 degrees\n",
      "PNe 25: Closest Fermi signal is '4FGL J1015.5-6030' with distance 0.9314 degrees\n",
      "PNe 26: Closest Fermi signal is '4FGL J1806.9-2824' with distance 0.3442 degrees\n",
      "PNe 27: Closest Fermi signal is '4FGL J1459.0-5353' with distance 0.4255 degrees\n",
      "PNe 28: Closest Fermi signal is '4FGL J2015.5+3710' with distance 0.9630 degrees\n",
      "PNe 29: Closest Fermi signal is '4FGL J2323.4+5849' with distance 0.7333 degrees\n",
      "PNe 30: Closest Fermi signal is '4FGL J0616.7-1049' with distance 0.8234 degrees\n",
      "PNe 31: Closest Fermi signal is '4FGL J1846.9-0227' with distance 0.0000 degrees\n",
      "PNe 32: Closest Fermi signal is '4FGL J1857.6+0212' with distance 0.1419 degrees\n",
      "PNe 33: Closest Fermi signal is '4FGL J1858.3+0209' with distance 0.0854 degrees\n"
     ]
    }
   ],
   "source": [
    "################################################################################\n",
    "#                                 Fermi Matrix                                 #\n",
    "################################################################################\n",
    "\n",
    "# Matrix of Distances -------------------------------------------------------------\n",
    "fd = np.zeros((len(galactic_coords), len(g_coords3)))\n",
    "fd = galactic_coords[:, None].separation(g_coords3[None, :]).deg\n",
    "\n",
    "# Shortest Sources and Distances -----------------------------------------------\n",
    "with fits.open('Resources/gll_psc_v35.fit') as hdul:\n",
    "    fermi_data = hdul[1].data\n",
    "    fermi_names = fermi_data.columns[0].array\n",
    "\n",
    "closest_indices = np.argmin(fd, axis=1)\n",
    "closest_distances = np.min(fd, axis=1)\n",
    "\n",
    "for i, (index, distance) in enumerate(zip(closest_indices, closest_distances)):\n",
    "    fermi_name = fermi_names[index].decode('utf-8').strip()\n",
    "    print(f\"PNe {i}: Closest Fermi signal is '{fermi_name}' with distance {distance:.4f} degrees\")"
   ]
  },
  {
   "cell_type": "code",
   "execution_count": null,
   "metadata": {},
   "outputs": [
    {
     "name": "stdout",
     "output_type": "stream",
     "text": [
      "[[60.16792229 60.17366762 59.74525193 ... 64.07688914 59.75370393\n",
      "  78.15949292]\n",
      " [74.79389972 55.13338041 74.15640216 ... 80.16887195 74.16993644\n",
      "  95.97959683]\n",
      " [46.21405931 23.80307355 45.07565759 ... 55.60212691 45.10197224\n",
      "  82.39781593]\n",
      " ...\n",
      " [80.37531607 89.38486676 80.46731027 ... 79.7944931  80.46406331\n",
      "  79.84408374]\n",
      " [76.95802527 84.29407848 76.9646379  ... 77.1311633  76.96331594\n",
      "  79.64771502]\n",
      " [76.85854464 84.21272633 76.86426939 ... 77.04065314 76.86296714\n",
      "  79.59596655]]\n"
     ]
    }
   ],
   "source": [
    "################################################################################\n",
    "#                                Chandra Matrix                                #\n",
    "################################################################################\n",
    "\n",
    "# Matrix of Distances -------------------------------------------------------------\n",
    "cd = np.zeros((len(galactic_coords), len(g_coords4)))\n",
    "cd = galactic_coords[:, None].separation(g_coords4[None, :]).deg\n",
    "print(cd)\n",
    "# Shortest Sources and Distances -----------------------------------------------\n",
    "shortest_distances = np.min(cd, axis=1)\n",
    "closest_sources = np.argmin(cd, axis=1)"
   ]
  }
 ],
 "metadata": {
  "kernelspec": {
   "display_name": "Python 3",
   "language": "python",
   "name": "python3"
  },
  "language_info": {
   "codemirror_mode": {
    "name": "ipython",
    "version": 3
   },
   "file_extension": ".py",
   "mimetype": "text/x-python",
   "name": "python",
   "nbconvert_exporter": "python",
   "pygments_lexer": "ipython3",
   "version": "3.12.5"
  }
 },
 "nbformat": 4,
 "nbformat_minor": 2
}
